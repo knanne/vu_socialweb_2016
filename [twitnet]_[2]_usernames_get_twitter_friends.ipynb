{
 "cells": [
  {
   "cell_type": "code",
   "execution_count": 14,
   "metadata": {
    "collapsed": true
   },
   "outputs": [],
   "source": [
    "import requests\n",
    "from requests_oauthlib import OAuth1\n",
    "import pandas as pd\n",
    "import time\n",
    "import json"
   ]
  },
  {
   "cell_type": "code",
   "execution_count": 2,
   "metadata": {
    "collapsed": true
   },
   "outputs": [],
   "source": [
    "with open('C:/Users/Kain/Documents/Monkey/api_twitter_keys.txt') as f:\n",
    "    creds = json.load(f)\n",
    "\n",
    "consumer_key = creds['consumer_key']\n",
    "consumer_secret = creds['consumer_secret']\n",
    "access_token = creds['access_token']\n",
    "access_token_secret = creds['access_token_secret']\n",
    "\n",
    "auth = OAuth1(consumer_key, consumer_secret, access_token, access_token_secret)"
   ]
  },
  {
   "cell_type": "code",
   "execution_count": 3,
   "metadata": {
    "collapsed": true
   },
   "outputs": [],
   "source": [
    "get_ids = 'https://api.twitter.com/1.1/friends/ids.json'\n",
    "get_user = 'https://api.twitter.com/1.1/users/lookup.json'"
   ]
  },
  {
   "cell_type": "code",
   "execution_count": 18,
   "metadata": {
    "collapsed": false
   },
   "outputs": [],
   "source": [
    "usernames = pd.read_table('data/twitter_usernames.txt', header=0, dtype='str', encoding='utf-8', sep='\\t')"
   ]
  },
  {
   "cell_type": "code",
   "execution_count": null,
   "metadata": {
    "collapsed": false
   },
   "outputs": [],
   "source": []
  },
  {
   "cell_type": "code",
   "execution_count": 21,
   "metadata": {
    "collapsed": false
   },
   "outputs": [
    {
     "name": "stdout",
     "output_type": "stream",
     "text": [
      "0 VU_CIW\n",
      "1 earthling91\n",
      "2 FrankVanHarmele\n",
      "3 RinkeHoekstra\n",
      "4 albertmeronyo\n",
      "5 antoine_isaac\n",
      "6 hyperir\n",
      "7 jrbn\n",
      "8 laroyo\n",
      "9 txkuhn\n",
      "10 FSW_VU\n",
      "11 JaapOuwerkerk\n",
      "12 allison_eden\n",
      "13 andrekrouwel\n",
      "14 camielbeukeboom\n",
      "15 giuliaranzini\n",
      "Being Rate Limited - Backing Off\n",
      "1457966286\n",
      "16 loez23\n",
      "17 wanglongli\n",
      "18 OrgVU\n",
      "19 juulferg\n",
      "20 KINresearch\n",
      "21 bartvandenhooff\n",
      "22 frithjofthinks\n",
      "23 hangerrits\n",
      "24 ingevandeweerd\n",
      "25 marleenhuysman\n",
      "26 mauravu\n",
      "27 mrlsagterberg\n",
      "28 schlegelmilch_j\n",
      "29 sensingclues\n",
      "30 susanhilbolling\n",
      "31 twitterdev\n",
      "Being Rate Limited - Backing Off\n",
      "1457967201\n",
      "32 bpeperkamp\n",
      "FINISHED\n"
     ]
    }
   ],
   "source": [
    "#GET Friends for all usernames\n",
    "#this will take a few minutes, due to rate limiting\n",
    "\n",
    "friends = {}\n",
    "i = 0\n",
    "for username in usernames['usernames'].unique():\n",
    "    \n",
    "    payload = {'screen_name' : username}\n",
    "    \n",
    "    print(i, username)\n",
    "    i += 1\n",
    "    \n",
    "    r = requests.get(get_ids, params = payload, auth = auth)\n",
    "    \n",
    "    time.sleep(5)\n",
    "    \n",
    "    #r_id = requests.get(get_user, params = payload, auth = auth)\n",
    "    #id = r_id.json()[0]['id']\n",
    "    \n",
    "    if r.status_code == 200:\n",
    "        rj = r.json()\n",
    "        friends[username] = rj['ids']\n",
    "    elif r.status_code == 420 or r.status_code == 429: #Enhance Your Calm or Too Many Requests\n",
    "        print('Being Rate Limited - Backing Off')\n",
    "        #get reset time\n",
    "        print(int(r.headers['x-rate-limit-reset']))\n",
    "        reset = int(r.headers['x-rate-limit-reset'])\n",
    "        #get wait time\n",
    "        wait = max(reset - time.time(), 0) + 10\n",
    "        #sleep on wait\n",
    "        time.sleep(wait)\n",
    "    else:\n",
    "        print('status:', r.status_code)\n",
    "        break\n",
    "\n",
    "print('FINISHED')"
   ]
  },
  {
   "cell_type": "code",
   "execution_count": 22,
   "metadata": {
    "collapsed": false
   },
   "outputs": [],
   "source": [
    "json.dump(friends, open('data/username_friends.json','w'), default=str, sort_keys=True, indent=4)"
   ]
  },
  {
   "cell_type": "code",
   "execution_count": 23,
   "metadata": {
    "collapsed": false
   },
   "outputs": [
    {
     "name": "stdout",
     "output_type": "stream",
     "text": [
      "CIW VU_CIW 93\n",
      "CLTL earthling91 184\n",
      "CS FrankVanHarmele 55\n",
      "CS RinkeHoekstra 277\n",
      "CS albertmeronyo 404\n",
      "CS antoine_isaac 145\n",
      "CS hyperir 673\n",
      "CS jrbn 81\n",
      "CS laroyo 644\n",
      "CS txkuhn 796\n",
      "CW FSW_VU 220\n",
      "CW JaapOuwerkerk 181\n",
      "CW allison_eden 646\n",
      "CW andrekrouwel 925\n",
      "CW camielbeukeboom 708\n",
      "CW loez23 171\n",
      "CW wanglongli 209\n",
      "FSW FSW_VU 220\n",
      "FSW OrgVU 166\n",
      "FSW juulferg 245\n",
      "KIN KINresearch 501\n",
      "KIN bartvandenhooff 3\n",
      "KIN frithjofthinks 189\n",
      "KIN hangerrits 438\n",
      "KIN ingevandeweerd 102\n",
      "KIN marleenhuysman 111\n",
      "KIN mauravu 166\n",
      "KIN mrlsagterberg 142\n",
      "KIN schlegelmilch_j 322\n",
      "KIN sensingclues 295\n",
      "KIN susanhilbolling 52\n",
      "L&S bpeperkamp 345\n"
     ]
    }
   ],
   "source": [
    "exclude = ['twitterdev']\n",
    "\n",
    "for i, doc in usernames.iterrows():\n",
    "    if doc['usernames'] in friends and doc['usernames'] not in exclude :\n",
    "        print(doc['group'], doc['usernames'], len(friends[doc['usernames']]))"
   ]
  },
  {
   "cell_type": "code",
   "execution_count": 24,
   "metadata": {
    "collapsed": true
   },
   "outputs": [],
   "source": [
    "#make giant list of all friends\n",
    "allfriends = []\n",
    "for f in friends:\n",
    "    allfriends.extend(friends[f])"
   ]
  },
  {
   "cell_type": "code",
   "execution_count": 25,
   "metadata": {
    "collapsed": true
   },
   "outputs": [],
   "source": [
    "import networkx as nx \n",
    "from networkx.readwrite import json_graph\n",
    "import json"
   ]
  },
  {
   "cell_type": "code",
   "execution_count": 26,
   "metadata": {
    "collapsed": true
   },
   "outputs": [],
   "source": [
    "G = nx.Graph()"
   ]
  },
  {
   "cell_type": "code",
   "execution_count": 27,
   "metadata": {
    "collapsed": false
   },
   "outputs": [],
   "source": [
    "for i, doc in usernames.iterrows():\n",
    "    account = doc['usernames']\n",
    "    if account in friends and account not in exclude :    \n",
    "        #add inner network as nodes\n",
    "        G.add_node(account, type='network', group=doc['group'], size=len(friends[account]))\n",
    "        for friend in friends[account]:\n",
    "            if allfriends.count(friend) > 1:\n",
    "                G.add_edge(account, friend)"
   ]
  },
  {
   "cell_type": "code",
   "execution_count": 28,
   "metadata": {
    "collapsed": true
   },
   "outputs": [],
   "source": [
    "nld = json_graph.node_link_data(G)\n",
    "# write json\n",
    "json.dump(nld, open('viz/d3network_data.json','w'))"
   ]
  },
  {
   "cell_type": "code",
   "execution_count": null,
   "metadata": {
    "collapsed": true
   },
   "outputs": [],
   "source": []
  }
 ],
 "metadata": {
  "kernelspec": {
   "display_name": "Python 3",
   "language": "python",
   "name": "python3"
  },
  "language_info": {
   "codemirror_mode": {
    "name": "ipython",
    "version": 3
   },
   "file_extension": ".py",
   "mimetype": "text/x-python",
   "name": "python",
   "nbconvert_exporter": "python",
   "pygments_lexer": "ipython3",
   "version": "3.4.3"
  }
 },
 "nbformat": 4,
 "nbformat_minor": 0
}
