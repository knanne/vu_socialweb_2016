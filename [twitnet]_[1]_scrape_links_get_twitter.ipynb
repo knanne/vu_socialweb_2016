{
 "cells": [
  {
   "cell_type": "code",
   "execution_count": 1,
   "metadata": {
    "collapsed": true
   },
   "outputs": [],
   "source": [
    "import requests\n",
    "from bs4 import BeautifulSoup\n",
    "import pandas as pd"
   ]
  },
  {
   "cell_type": "code",
   "execution_count": 2,
   "metadata": {
    "collapsed": false
   },
   "outputs": [],
   "source": [
    "df = pd.read_table('data/links.txt', header=0, dtype='str', encoding='utf-8', sep='\\t')"
   ]
  },
  {
   "cell_type": "code",
   "execution_count": 6,
   "metadata": {
    "collapsed": false
   },
   "outputs": [],
   "source": [
    "def make_soup(url):\n",
    "    try:\n",
    "        r = requests.get(url)\n",
    "        html = r.content\n",
    "        data = BeautifulSoup(html, 'lxml')\n",
    "    except Exception as e:\n",
    "        print(e)\n",
    "    else:\n",
    "        return data"
   ]
  },
  {
   "cell_type": "code",
   "execution_count": 7,
   "metadata": {
    "collapsed": false
   },
   "outputs": [
    {
     "name": "stdout",
     "output_type": "stream",
     "text": [
      "searching:  0\n",
      "searching:  1\n",
      "searching:  2\n",
      "searching:  3\n",
      "searching:  4\n",
      "searching:  5\n",
      "searching:  6\n",
      "searching:  7\n",
      "searching:  8\n",
      "searching:  9\n",
      "searching:  10\n",
      "searching:  11\n",
      "searching:  12\n",
      "searching:  13\n",
      "searching:  14\n",
      "searching:  15\n",
      "searching:  16\n",
      "searching:  17\n",
      "searching:  18\n",
      "searching:  19\n",
      "searching:  20\n",
      "searching:  21\n",
      "searching:  22\n",
      "searching:  23\n",
      "searching:  24\n",
      "searching:  25\n",
      "searching:  26\n",
      "searching:  27\n",
      "searching:  28\n",
      "searching:  29\n",
      "searching:  30\n",
      "searching:  31\n",
      "searching:  32\n",
      "searching:  33\n",
      "searching:  34\n",
      "searching:  35\n",
      "searching:  36\n",
      "searching:  37\n",
      "searching:  38\n",
      "searching:  39\n",
      "('Connection aborted.', BadStatusLine(\"''\",))\n",
      "searching:  40\n",
      "searching:  41\n",
      "searching:  42\n",
      "searching:  43\n",
      "searching:  44\n",
      "searching:  45\n",
      "searching:  46\n",
      "searching:  47\n",
      "searching:  48\n",
      "searching:  49\n",
      "searching:  50\n",
      "searching:  51\n",
      "searching:  52\n",
      "searching:  53\n",
      "searching:  54\n",
      "searching:  55\n",
      "searching:  56\n",
      "searching:  57\n",
      "searching:  58\n",
      "searching:  59\n",
      "searching:  60\n",
      "searching:  61\n",
      "searching:  62\n",
      "searching:  63\n",
      "searching:  64\n",
      "searching:  65\n",
      "searching:  66\n",
      "searching:  67\n",
      "searching:  68\n",
      "searching:  69\n",
      "searching:  70\n",
      "searching:  71\n",
      "searching:  72\n",
      "searching:  73\n",
      "searching:  74\n",
      "searching:  75\n",
      "searching:  76\n",
      "searching:  77\n",
      "searching:  78\n",
      "searching:  79\n",
      "searching:  80\n",
      "searching:  81\n",
      "searching:  82\n",
      "searching:  83\n",
      "searching:  84\n",
      "searching:  85\n",
      "searching:  86\n",
      "searching:  87\n",
      "searching:  88\n",
      "searching:  89\n",
      "searching:  90\n",
      "searching:  91\n",
      "searching:  92\n",
      "searching:  93\n",
      "searching:  94\n",
      "searching:  95\n",
      "searching:  96\n",
      "searching:  97\n",
      "searching:  98\n",
      "searching:  99\n",
      "searching:  100\n",
      "searching:  101\n",
      "searching:  102\n",
      "searching:  103\n",
      "searching:  104\n",
      "searching:  105\n",
      "searching:  106\n",
      "searching:  107\n",
      "searching:  108\n",
      "searching:  109\n",
      "searching:  110\n",
      "searching:  111\n",
      "searching:  112\n",
      "searching:  113\n",
      "searching:  114\n",
      "searching:  115\n",
      "searching:  116\n",
      "searching:  117\n",
      "searching:  118\n",
      "searching:  119\n",
      "searching:  120\n",
      "searching:  121\n",
      "searching:  122\n",
      "searching:  123\n",
      "searching:  124\n",
      "searching:  125\n",
      "searching:  126\n",
      "searching:  127\n",
      "searching:  128\n",
      "searching:  129\n",
      "searching:  130\n",
      "searching:  131\n",
      "searching:  132\n",
      "searching:  133\n",
      "searching:  134\n",
      "searching:  135\n",
      "searching:  136\n",
      "searching:  137\n",
      "searching:  138\n",
      "searching:  139\n",
      "searching:  140\n",
      "searching:  141\n",
      "searching:  142\n",
      "searching:  143\n",
      "searching:  144\n",
      "searching:  145\n",
      "searching:  146\n",
      "searching:  147\n",
      "searching:  148\n",
      "searching:  149\n",
      "searching:  150\n",
      "searching:  151\n",
      "searching:  152\n",
      "searching:  153\n",
      "searching:  154\n",
      "searching:  155\n",
      "searching:  156\n",
      "searching:  157\n",
      "searching:  158\n",
      "searching:  159\n",
      "searching:  160\n",
      "searching:  161\n",
      "searching:  162\n",
      "searching:  163\n",
      "searching:  164\n",
      "searching:  165\n",
      "searching:  166\n",
      "searching:  167\n",
      "searching:  168\n",
      "searching:  169\n",
      "searching:  170\n",
      "searching:  171\n",
      "searching:  172\n",
      "searching:  173\n",
      "searching:  174\n",
      "searching:  175\n",
      "searching:  176\n",
      "searching:  177\n",
      "searching:  178\n",
      "searching:  179\n",
      "searching:  180\n",
      "searching:  181\n",
      "searching:  182\n",
      "searching:  183\n",
      "searching:  184\n",
      "searching:  185\n",
      "searching:  186\n",
      "searching:  187\n",
      "searching:  188\n",
      "searching:  189\n",
      "searching:  190\n",
      "searching:  191\n",
      "searching:  192\n",
      "searching:  193\n",
      "searching:  194\n",
      "searching:  195\n",
      "searching:  196\n",
      "FINISHED\n"
     ]
    },
    {
     "name": "stderr",
     "output_type": "stream",
     "text": [
      "c:\\miniconda3\\lib\\site-packages\\bs4\\__init__.py:166: UserWarning: No parser was explicitly specified, so I'm using the best available HTML parser for this system (\"lxml\"). This usually isn't a problem, but if you run this code on another system, or in a different virtual environment, it may use a different parser and behave differently.\n",
      "\n",
      "To get rid of this warning, change this:\n",
      "\n",
      " BeautifulSoup([your markup])\n",
      "\n",
      "to this:\n",
      "\n",
      " BeautifulSoup([your markup], \"lxml\")\n",
      "\n",
      "  markup_type=markup_type))\n"
     ]
    },
    {
     "ename": "NameError",
     "evalue": "name 'file' is not defined",
     "output_type": "error",
     "traceback": [
      "\u001b[1;31m---------------------------------------------------------------------------\u001b[0m",
      "\u001b[1;31mNameError\u001b[0m                                 Traceback (most recent call last)",
      "\u001b[1;32m<ipython-input-7-4f92850d49e1>\u001b[0m in \u001b[0;36m<module>\u001b[1;34m()\u001b[0m\n\u001b[0;32m     23\u001b[0m \u001b[1;33m\u001b[0m\u001b[0m\n\u001b[0;32m     24\u001b[0m \u001b[0mprint\u001b[0m\u001b[1;33m(\u001b[0m\u001b[1;34m'FINISHED'\u001b[0m\u001b[1;33m)\u001b[0m\u001b[1;33m\u001b[0m\u001b[0m\n\u001b[1;32m---> 25\u001b[1;33m \u001b[0mfile\u001b[0m\u001b[1;33m.\u001b[0m\u001b[0mclose\u001b[0m\u001b[1;33m(\u001b[0m\u001b[1;33m)\u001b[0m\u001b[1;33m\u001b[0m\u001b[0m\n\u001b[0m",
      "\u001b[1;31mNameError\u001b[0m: name 'file' is not defined"
     ]
    }
   ],
   "source": [
    "header = ['link', 'title', 'twitter_link']\n",
    "h = pd.DataFrame(columns=header)\n",
    "h.to_csv('data/twitter_profiles.txt', mode='w', sep='\\t', encoding='utf-8', index=False, header=True)\n",
    "\n",
    "for i,d in df.iterrows():\n",
    "    \n",
    "    print('searching: ', i)\n",
    "    soup = make_soup(d['link'])\n",
    "    \n",
    "    if soup != None:\n",
    "        for a in soup.find_all('a', href=True):\n",
    "            if a['href'][:15] == 'https://twitter':\n",
    "                r = []\n",
    "                r.append(d['link'])\n",
    "                if soup.title != None:\n",
    "                    r.append(soup.title.string)\n",
    "                else:\n",
    "                    r.append('None')\n",
    "                r.append(a['href'])\n",
    "                row = pd.Series(r, index=header)\n",
    "                row = pd.DataFrame(r).T\n",
    "                row.to_csv('twitter_profiles.txt', mode='a', sep='\\t', encoding='utf-8', index=False, header=False)\n",
    "\n",
    "print('FINISHED')"
   ]
  },
  {
   "cell_type": "code",
   "execution_count": null,
   "metadata": {
    "collapsed": true
   },
   "outputs": [],
   "source": []
  },
  {
   "cell_type": "code",
   "execution_count": 8,
   "metadata": {
    "collapsed": false
   },
   "outputs": [],
   "source": [
    "profiles = pd.read_table('data/twitter_profiles.txt', header=0, dtype='str', encoding='utf-8', sep='\\t')"
   ]
  },
  {
   "cell_type": "code",
   "execution_count": 10,
   "metadata": {
    "collapsed": false
   },
   "outputs": [],
   "source": [
    "profiles['usernames'] = profiles['twitter_link'].apply(lambda s: s.rsplit('/', 1)[1])"
   ]
  },
  {
   "cell_type": "code",
   "execution_count": 27,
   "metadata": {
    "collapsed": true
   },
   "outputs": [],
   "source": [
    "#remove searches\n",
    "profiles['usernames'] = profiles['usernames'].apply(lambda s: s if s[:9] != 'search?q=' else '')"
   ]
  },
  {
   "cell_type": "code",
   "execution_count": 28,
   "metadata": {
    "collapsed": false
   },
   "outputs": [],
   "source": [
    "#remove statuses\n",
    "profiles['usernames'] = profiles['usernames'].apply(lambda s: s if not s.isdigit() else '')"
   ]
  },
  {
   "cell_type": "code",
   "execution_count": 40,
   "metadata": {
    "collapsed": false
   },
   "outputs": [],
   "source": [
    "#remove language paramters\n",
    "profiles['usernames'] = profiles['usernames'].apply(lambda s: s[0:s.find('?lang=')] if '?lang=' in s else s)"
   ]
  },
  {
   "cell_type": "code",
   "execution_count": 41,
   "metadata": {
    "collapsed": false,
    "scrolled": true
   },
   "outputs": [],
   "source": [
    "profiles.to_csv('data/twitter_profiles.txt', mode='w', sep='\\t', encoding='utf-8', index=False)"
   ]
  },
  {
   "cell_type": "code",
   "execution_count": 42,
   "metadata": {
    "collapsed": false
   },
   "outputs": [],
   "source": [
    "usernames = pd.Series(profiles[profiles['usernames'] != '']['usernames'].unique())"
   ]
  },
  {
   "cell_type": "code",
   "execution_count": 43,
   "metadata": {
    "collapsed": false
   },
   "outputs": [
    {
     "data": {
      "text/plain": [
       "0      marleenhuysman\n",
       "1          twitterdev\n",
       "2         KINresearch\n",
       "3     bartvandenhooff\n",
       "4          hangerrits\n",
       "5             mauravu\n",
       "6       mrlsagterberg\n",
       "7        sensingclues\n",
       "8      ingevandeweerd\n",
       "9     susanhilbolling\n",
       "10    schlegelmilch_j\n",
       "11     frithjofthinks\n",
       "12        earthling91\n",
       "13         bpeperkamp\n",
       "14             VU_CIW\n",
       "15             FSW_VU\n",
       "16    camielbeukeboom\n",
       "17       allison_eden\n",
       "18       andrekrouwel\n",
       "19         wanglongli\n",
       "20      JaapOuwerkerk\n",
       "21      giuliaranzini\n",
       "22             loez23\n",
       "23      RinkeHoekstra\n",
       "24            hyperir\n",
       "25      albertmeronyo\n",
       "26               jrbn\n",
       "27             txkuhn\n",
       "28      antoine_isaac\n",
       "29           juulferg\n",
       "30              OrgVU\n",
       "dtype: object"
      ]
     },
     "execution_count": 43,
     "metadata": {},
     "output_type": "execute_result"
    }
   ],
   "source": [
    "usernames"
   ]
  },
  {
   "cell_type": "code",
   "execution_count": 44,
   "metadata": {
    "collapsed": true
   },
   "outputs": [],
   "source": [
    "u = pd.DataFrame(usernames)"
   ]
  },
  {
   "cell_type": "code",
   "execution_count": 45,
   "metadata": {
    "collapsed": false
   },
   "outputs": [],
   "source": [
    "u.to_csv('data/twitter_usernames.txt', sep='\\t', encoding='utf-8', index=False, header=False)"
   ]
  }
 ],
 "metadata": {
  "kernelspec": {
   "display_name": "Python 3",
   "language": "python",
   "name": "python3"
  },
  "language_info": {
   "codemirror_mode": {
    "name": "ipython",
    "version": 3
   },
   "file_extension": ".py",
   "mimetype": "text/x-python",
   "name": "python",
   "nbconvert_exporter": "python",
   "pygments_lexer": "ipython3",
   "version": "3.4.3"
  }
 },
 "nbformat": 4,
 "nbformat_minor": 0
}
